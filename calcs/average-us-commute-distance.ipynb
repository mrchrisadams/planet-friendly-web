{
 "cells": [
  {
   "cell_type": "markdown",
   "metadata": {},
   "source": [
    "# Commuting versus streaming \n",
    "\n",
    "This is the first reasonable figure I can find for US commute distances in miles:\n",
    "\n",
    "https://www.marketwatch.com/story/here-are-the-typical-commutes-for-every-big-metro-area-2015-03-25\n",
    "\n",
    "There's the commute distance for 'the typical commutes for every big metro area of America'"
   ]
  },
  {
   "cell_type": "code",
   "execution_count": 23,
   "metadata": {},
   "outputs": [],
   "source": [
    "import csv\n",
    "import statistics"
   ]
  },
  {
   "cell_type": "code",
   "execution_count": 24,
   "metadata": {},
   "outputs": [
    {
     "data": {
      "text/plain": [
       "[6.1,\n",
       " 7.1,\n",
       " 6.7,\n",
       " 5.9,\n",
       " 12.8,\n",
       " 7.0,\n",
       " 8.6,\n",
       " 5.6,\n",
       " 8.6,\n",
       " 8.0,\n",
       " 10.1,\n",
       " 6.0,\n",
       " 5.4,\n",
       " 6.5,\n",
       " 7.3,\n",
       " 8.0,\n",
       " 9.7,\n",
       " 7.5,\n",
       " 10.0,\n",
       " 8.7,\n",
       " 7.8,\n",
       " 5.9,\n",
       " 9.0,\n",
       " 8.6,\n",
       " 12.2,\n",
       " 6.6,\n",
       " 5.9,\n",
       " 8.5,\n",
       " 6.4,\n",
       " 10.4,\n",
       " 7.0,\n",
       " 5.6,\n",
       " 7.2,\n",
       " 6.9,\n",
       " 8.0,\n",
       " 6.0,\n",
       " 7.3,\n",
       " 12.2,\n",
       " 9.2,\n",
       " 8.7,\n",
       " 9.1,\n",
       " 8.9,\n",
       " 9.1,\n",
       " 6.9,\n",
       " 7.2,\n",
       " 8.2,\n",
       " 8.8,\n",
       " 7.6,\n",
       " 6.8,\n",
       " 6.4,\n",
       " 8.9,\n",
       " 8.6,\n",
       " 7.4,\n",
       " 9.5,\n",
       " 11.0,\n",
       " 5.0,\n",
       " 6.2,\n",
       " 7.7,\n",
       " 5.9,\n",
       " 5.7,\n",
       " 8.6,\n",
       " 6.0,\n",
       " 9.1,\n",
       " 5.3,\n",
       " 6.6,\n",
       " 7.8,\n",
       " 11.4,\n",
       " 8.1,\n",
       " 7.1,\n",
       " 5.5,\n",
       " 8.5,\n",
       " 8.7,\n",
       " 9.1,\n",
       " 7.4,\n",
       " 8.0,\n",
       " 10.0,\n",
       " 6.5,\n",
       " 8.8,\n",
       " 8.5,\n",
       " 8.0,\n",
       " 6.4,\n",
       " 5.2,\n",
       " 9.0,\n",
       " 5.6,\n",
       " 4.7,\n",
       " 6.5,\n",
       " 8.5,\n",
       " 6.0,\n",
       " 7.3,\n",
       " 8.0,\n",
       " 6.6,\n",
       " 7.6,\n",
       " 9.1,\n",
       " 6.7,\n",
       " 7.1,\n",
       " 5.8]"
      ]
     },
     "execution_count": 24,
     "metadata": {},
     "output_type": "execute_result"
    }
   ],
   "source": [
    "with open('avg-us-commute-by-distance.csv') as f:\n",
    "    rows = csv.DictReader(f, delimiter=';')\n",
    "    commute_distances = []\n",
    "    for row in rows:\n",
    "        commute_distances.append(float(row['Typical commute in miles']))\n",
    "        \n",
    "commute_distances"
   ]
  },
  {
   "cell_type": "code",
   "execution_count": 28,
   "metadata": {},
   "outputs": [
    {
     "data": {
      "text/plain": [
       "7.697916666666667"
      ]
     },
     "execution_count": 28,
     "metadata": {},
     "output_type": "execute_result"
    }
   ],
   "source": [
    "statistics.mean(commute_distances)"
   ]
  },
  {
   "cell_type": "markdown",
   "metadata": {},
   "source": [
    "### So, there we have it - about 7.7 miles\n",
    "\n",
    "\n",
    "Quick and dirty, but at least it's reproducible easily."
   ]
  }
 ],
 "metadata": {
  "kernelspec": {
   "display_name": "Python 3",
   "language": "python",
   "name": "python3"
  },
  "language_info": {
   "codemirror_mode": {
    "name": "ipython",
    "version": 3
   },
   "file_extension": ".py",
   "mimetype": "text/x-python",
   "name": "python",
   "nbconvert_exporter": "python",
   "pygments_lexer": "ipython3",
   "version": "3.6.2"
  }
 },
 "nbformat": 4,
 "nbformat_minor": 2
}
