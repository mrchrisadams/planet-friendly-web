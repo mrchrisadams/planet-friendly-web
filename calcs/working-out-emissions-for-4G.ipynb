{
 "cells": [
  {
   "cell_type": "markdown",
   "metadata": {},
   "source": [
    "## How much energy does it take to download a gigabyte of data over LTE?\n",
    "\n",
    "\n",
    "It's not that uncommon to calcualte CO2 emissions associated with electricity by taking energy generated, the multiplying it my an emissions factor - usuallt grams of CO2 per kilowatt hour, to get a figure of CO2 emissions emitted as a result of using electricty.\n",
    "\n",
    "I'm trying to work out the figures for 4G, and below represents me having a go, but I am in no way trained to do this.\n",
    "\n",
    "\n",
    "\n"
   ]
  },
  {
   "cell_type": "markdown",
   "metadata": {},
   "source": [
    "### The only numbers I see in the units I want are from the 2012 Cloud begins with Coal Report\n",
    "\n",
    "Here's the [link to the report](www.tech-pundit.com/wp-content/uploads/2013/07/Cloud_Begins_With_Coal.pdf)\n",
    "\n",
    "> Reduced to personal terms, although charging up a single tablet or smart phone requires a negligible amount of electricity, using either to watch an hour of video weekly consumes annually more electricity in the remote networks than two new refrigerators use in a year. And as the world continues to electrify, migrating towards one refrigerator per household, it also evolves towards several smartphones and equivalent per person.\n",
    "\n",
    "The workings are mentioned in the appendix, so I'm trying to see what these numbers might look like now.\n",
    "\n",
    "> New refrigerator 350 kWh per EPA Energy Star; ~700 kWh/yr\n",
    "\n",
    "> Weekly streaming HD from [network operations] + [network embodied energy]+ [tablet embodied energy];note, ignores data centers & end-­‐use tablet charging: ~ 300 kWh/yr\n",
    "\n",
    "> wireless network operations from HD video 2.8 GB/hr per Netflix,network energy ~2kWh/GB. \n",
    "\n",
    "> Note energy use varies with location (type/age equipment), system utilization (see Auer et al, “How Much Energy is Needed to Run a Wireless Network?” June 2012).\n",
    "\n",
    "> Network energy ranges from 19 kWh/GB The Mobile Economy, 2013, ATKearney, to ~2kWh/GB per CEET, The Power of Wireless Cloud, April 2013.\n",
    "\n",
    "> Annualized embodied/manufacturing energy to produce tablet (details in this report) ~100 kWh/yr per tablet, and cell network operating energy equals annualized embodied energy of network equipment used for 5 years.\n",
    "\n",
    "> Refrigerator embodied energy adds 5 -­‐10% to lifecycle energy use of refrigerator.\n",
    "\n",
    "So his figures show 2KwH/GB. If we assume a figure of maybe 350g CO2 per Kwh (that's halfwat between European and US figures), this means we're looking at 700g of CO2 per Gigabyte.But what year is this based on?\n"
   ]
  },
  {
   "cell_type": "markdown",
   "metadata": {},
   "source": [
    "### Let's take some figures from the 2012 power of wireless cloud report\n",
    "\n",
    "Here's the [link to the CEET report](http://www.ceet.unimelb.edu.au/publications/ceet-white-paper-wireless-cloud.pdf)\n",
    "\n",
    "This report is from the CEEE, and is artgues that public discussion needs to move away from the environmantal impact of data centres, and instead, to the impact of cellular wireless connectivity.\n",
    "\n",
    "Here's the bit we care about with the numbers:\n",
    "\n",
    "> The model first calculates the 4G LTE wireless connection between the user’s phone/tablet. Under typical circumstances, with 2010 technology, the energy consumption of a 4G LTE wireless access link ranges between 328 micro-Joules per bit and around 615 micro-Joules per bit [42]. The current annual energy efficiency improvement for wireless systems is approximately 26% [52]. Therefore, the 2010 values need to be adjusted to represent the expected energy per bit in 2015. This gives values of 73 micro-Joules per bit and 136 micro-Joules per bit. This paper adopted the lower value of 73 micro-Joules per bit\n",
    "\n",
    "Got that?\n",
    "\n",
    "In 2010:\n",
    "\n",
    "- 328 micro-Joules per bit\n",
    "- 615 micro-Joules per bit\n",
    "\n",
    "And over 5 years, with 26% annual energy efficiency improvement, we get \n",
    "\n",
    "- In 2015, this is 73 micro-joules per bit as the lower range\n",
    "- 2015 136 as the upper range\n",
    "\n",
    "In the \n"
   ]
  },
  {
   "cell_type": "code",
   "execution_count": 43,
   "metadata": {},
   "outputs": [
    {
     "data": {
      "text/plain": [
       "72.78341726719998"
      ]
     },
     "execution_count": 43,
     "metadata": {},
     "output_type": "execute_result"
    }
   ],
   "source": [
    "def annual_efficieny_gain(initial_val, no_of_years):\n",
    "    val = initial_val\n",
    "    for x in range(no_of_years):\n",
    "        val *= 0.74\n",
    "    return val\n",
    "\n",
    "\n",
    "energy_per_bit_in_2015 = annual_efficieny_gain(328, 5)\n",
    "energy_per_bit_in_2015"
   ]
  },
  {
   "cell_type": "markdown",
   "metadata": {},
   "source": [
    "Okay, we're getting the same numbers as the report. Lets see assumed figures in 2018"
   ]
  },
  {
   "cell_type": "code",
   "execution_count": 37,
   "metadata": {},
   "outputs": [
    {
     "data": {
      "text/plain": [
       "29.493587478683846"
      ]
     },
     "execution_count": 37,
     "metadata": {},
     "output_type": "execute_result"
    }
   ],
   "source": [
    "energy_per_bit_in_2018 = annual_efficieny_gain(328, 8)\n",
    "energy_per_bit_in_2018"
   ]
  },
  {
   "cell_type": "markdown",
   "metadata": {},
   "source": [
    "Okay we now have a figure of… let's call it **29 micro-joules per bit**.\n",
    "\n",
    "According to wikipedia, a joule is also known a watt-second.\n",
    "\n",
    "A micro-joule is 10^-6 joules.\n",
    "\n",
    "And a gigabyte is 10^9 bits.\n",
    "\n"
   ]
  },
  {
   "cell_type": "code",
   "execution_count": 44,
   "metadata": {},
   "outputs": [
    {
     "data": {
      "text/plain": [
       "247410143.87238714"
      ]
     },
     "execution_count": 44,
     "metadata": {},
     "output_type": "execute_result"
    }
   ],
   "source": [
    "energy_per_byte_in_2018 = energy_per_bit_in_2018 * 8\n",
    "\n",
    "energy_per_megabyte_in_2018 = energy_per_byte_in_2018 * 1024\n",
    "\n",
    "energy_per_gigabyte_in_2018 = energy_per_megabyte_in_2018 * 1024\n",
    "\n",
    "# Actually, let's call it micro_joules_per_gigabyte_in_2018\n",
    "micro_joules_per_gigabyte_in_2018 = energy_per_gigabyte_in_2018\n",
    "micro_joules_per_gigabyte_in_2018"
   ]
  },
  {
   "cell_type": "markdown",
   "metadata": {},
   "source": [
    "Okay now from microJoules to joules\n"
   ]
  },
  {
   "cell_type": "code",
   "execution_count": 39,
   "metadata": {},
   "outputs": [
    {
     "data": {
      "text/plain": [
       "247.41014387238715"
      ]
     },
     "execution_count": 39,
     "metadata": {},
     "output_type": "execute_result"
    }
   ],
   "source": [
    "joules_per_gigabyte = micro_joules_per_gigabyte_in_2018 / (1000 * 1000 )\n",
    "joules_per_gigabyte"
   ]
  },
  {
   "cell_type": "markdown",
   "metadata": {},
   "source": [
    "Huh?\n",
    "\n",
    "247 joules per gigabyte is the same as 247 watt-seconds per gigabyte.\n",
    "\n",
    "And now kilowatt-hours per gigabyte?\n",
    "\n",
    "A kilowatt hour is 1000W, for an hour.\n",
    "\n"
   ]
  },
  {
   "cell_type": "code",
   "execution_count": 40,
   "metadata": {},
   "outputs": [
    {
     "data": {
      "text/plain": [
       "3600000"
      ]
     },
     "execution_count": 40,
     "metadata": {},
     "output_type": "execute_result"
    }
   ],
   "source": [
    "# how many joules in a kilowatt hour? Should be 3.6 million\n",
    "1000 * (60 * 60)"
   ]
  },
  {
   "cell_type": "code",
   "execution_count": 41,
   "metadata": {},
   "outputs": [
    {
     "data": {
      "text/plain": [
       "6.872503996455199e-05"
      ]
     },
     "execution_count": 41,
     "metadata": {},
     "output_type": "execute_result"
    }
   ],
   "source": [
    "kilowatt_hours_per_gigabyte = joules_per_gigabyte / (1000 * (60 * 60))\n",
    "kilowatt_hours_per_gigabyte"
   ]
  }
 ],
 "metadata": {
  "kernelspec": {
   "display_name": "Python 3",
   "language": "python",
   "name": "python3"
  },
  "language_info": {
   "codemirror_mode": {
    "name": "ipython",
    "version": 3
   },
   "file_extension": ".py",
   "mimetype": "text/x-python",
   "name": "python",
   "nbconvert_exporter": "python",
   "pygments_lexer": "ipython3",
   "version": "3.6.2"
  }
 },
 "nbformat": 4,
 "nbformat_minor": 2
}
