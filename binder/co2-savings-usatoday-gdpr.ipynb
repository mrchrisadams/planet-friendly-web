{
 "cells": [
  {
   "cell_type": "markdown",
   "metadata": {},
   "source": [
    "# Roughly how much CO2 would be saved if the GPDR version of USA today was the norm?\n",
    "\n",
    "This obviously a just a bit of fun, and these figures are not all that rigourous.\n",
    "\n",
    "I'm doing this as I've been curious about this for a while, and I'm trying to put a guide together for people who build digital products, and want to reduce the environmental impact of tech, which right now is roughly as big as aviation, and growing fast.\n"
   ]
  },
  {
   "cell_type": "markdown",
   "metadata": {},
   "source": [
    "### What's the figure for typical CO2 emissions per gigabyte transferred?\n",
    "\n",
    "Let's use [Jonathan Koomey's figures from his most recent work, _Electricity Intensity of Internet Data\n",
    "Transmission\n",
    "Untangling the Estimates_](https://onlinelibrary.wiley.com/doi/epdf/10.1111/jiec.12630?author_access_token=qKLHW60whKlIcnbgZHyqAota6bR2k8jH0KrdpFOxC67rBuG5vGc2ZG6j1g_HJ-JulsncF1Qz-ue9bhxC6_IHsRPQznZM0tXnIVYcG_7gmUfto3IGG2OwCrT-lCRxihEN&), as it is:\n",
    "\n",
    "- freely available\n",
    "- relatively recent\n",
    "- peer reviewed (I think)\n",
    "- acts as a summary of all the figures, and helps address the wild variation in CO2/GB from other peer reviewed sources\n",
    "\n",
    "The key figure we care about in that paper is 0.06kwH/GB in 2015. \n",
    "\n",
    "\n"
   ]
  },
  {
   "cell_type": "markdown",
   "metadata": {},
   "source": [
    "The other key take-away is that:\n",
    "\n",
    "> energy intensity has decreased by half every 2 years, since 2000.\n",
    "\n",
    "We should probably make a function to apply a decrease over time (pull requests welcome!), but as this is quick and dirty thing, let's cheat and just say say 2018 is _close_ to 2017, so we have a figure of 0.03kwH/GB in 2017.\n",
    "\n",
    "We can always tidy it up if the numbers are meaningful, or this turns out to be interesting to anyone else."
   ]
  },
  {
   "cell_type": "code",
   "execution_count": 49,
   "metadata": {},
   "outputs": [],
   "source": [
    "kilowatt_hours_per_gigabyte = 0.03"
   ]
  },
  {
   "cell_type": "markdown",
   "metadata": {},
   "source": [
    "### How big is the typical _USA Today_ page?\n",
    "\n",
    "This is just a quick jot-down some numbers exercise, so I'm gonna use [Hadley Beeman's tweet](https://twitter.com/hadleybeeman/status/1000435217109278721), as she summarises the key points well, and there's a whole thread to read if you're interested:\n",
    "\n",
    "> Speaking as a user — THIS 500 KB site is the web I want.\n",
    "> Speaking as an architect of the web — I keep thinking that we’ve built a platform that is serves, in this example: 9% content, 91% ads and tracking\n",
    "\n",
    "Okay, so let's assume that we're looking at a webpage of what, _5MB_, then? Yeah, let's use that.\n"
   ]
  },
  {
   "cell_type": "code",
   "execution_count": 50,
   "metadata": {},
   "outputs": [],
   "source": [
    "page_weight_in_mb=5"
   ]
  },
  {
   "cell_type": "markdown",
   "metadata": {},
   "source": [
    "### How many page views do we need to make about a gigabyte of bandwidth?\n",
    "\n",
    "If our we page is 5MB, let's divide a gigabyte (1024 megabytes) by our page size then:"
   ]
  },
  {
   "cell_type": "code",
   "execution_count": 51,
   "metadata": {},
   "outputs": [
    {
     "data": {
      "text/plain": [
       "204.8"
      ]
     },
     "execution_count": 51,
     "metadata": {},
     "output_type": "execute_result"
    }
   ],
   "source": [
    "megabytes_in_a_gigabtye = 1024\n",
    "\n",
    "pages_in_a_gigabyte = megabytes_in_a_gigabtye / page_weight_in_mb\n",
    "pages_in_a_gigabyte"
   ]
  },
  {
   "cell_type": "markdown",
   "metadata": {},
   "source": [
    "Okay, so 204 pages can be loaded for a gigabyte of traffic. If we multiply that by the number of pageviews in a day, then multiply that by the CO2 emissions per kilowatt hour, we should end up with a rough figure.\n",
    "\n",
    "Now, let's work out the gigabytes per page, so if we know how many page views we can work out out total traffic"
   ]
  },
  {
   "cell_type": "code",
   "execution_count": 52,
   "metadata": {},
   "outputs": [
    {
     "data": {
      "text/plain": [
       "0.0048828125"
      ]
     },
     "execution_count": 52,
     "metadata": {},
     "output_type": "execute_result"
    }
   ],
   "source": [
    "gigabytes_per_page = 5 / 1024\n",
    "gigabytes_per_page"
   ]
  },
  {
   "cell_type": "markdown",
   "metadata": {},
   "source": [
    "### How much traffic does USA today get?\n",
    "\n",
    "If we had a subscription to [Alexa's rankings](https://www.alexa.com/siteinfo/usatoday.com)  we could get a number that's accurate enough for businesses to base decisions on. But sadly we don't have one now.\n",
    "\n",
    "Who else has stats? Well, [Easycounter puts the figure at *3.77 million page views per day*, and *1.3 page views per user*](https://www.easycounter.com/report/usatoday.com).\n",
    "\n",
    "Lets plug those in. We might care about page views per user, as we might assume some assets are cached on the second view. But for now, let's just care about pageviews per day."
   ]
  },
  {
   "cell_type": "code",
   "execution_count": 53,
   "metadata": {},
   "outputs": [],
   "source": [
    "pageviews_per_day = 3.77 * 1000 * 1000\n",
    "pageviews_per_visit = 1.3"
   ]
  },
  {
   "cell_type": "markdown",
   "metadata": {},
   "source": [
    "If we know how many pageviews can fit in a gigabyte, and we know how many pageviews we have, we can get a rough idea for total transfer per day:"
   ]
  },
  {
   "cell_type": "code",
   "execution_count": 54,
   "metadata": {},
   "outputs": [
    {
     "data": {
      "text/plain": [
       "18408.203125"
      ]
     },
     "execution_count": 54,
     "metadata": {},
     "output_type": "execute_result"
    }
   ],
   "source": [
    "rough_daily_transfer = pageviews_per_day * gigabytes_per_page\n",
    "rough_daily_transfer"
   ]
  },
  {
   "cell_type": "markdown",
   "metadata": {},
   "source": [
    "So, a little over 18408 gigabytes per day.\n",
    "\n",
    "Let's multiply that by energy per gigabyte, then CO2 per kilowatt hour, so convert it onto CO2 figures.\n",
    "\n",
    "Let's assume a figure 450g of CO2 per kilowatt hour, based on the energy intensity of the grid"
   ]
  },
  {
   "cell_type": "code",
   "execution_count": 55,
   "metadata": {},
   "outputs": [
    {
     "data": {
      "text/plain": [
       "248.5107421875"
      ]
     },
     "execution_count": 55,
     "metadata": {},
     "output_type": "execute_result"
    }
   ],
   "source": [
    "kilo_co2_per_kilowatt_hour = 0.45\n",
    "\n",
    "co2_emitted_per_day = rough_daily_transfer * kilowatt_hours_per_gigabyte * kilo_co2_per_kilowatt_hour\n",
    "co2_emitted_per_day"
   ]
  },
  {
   "cell_type": "markdown",
   "metadata": {},
   "source": [
    "So, just under a quarter of a tonne of CO2 per day for the traffic now.\n",
    "\n",
    "That's comparable to something like [taking a short haul flight from JFK airport to Chicago](https://co2.myclimate.org/en/portfolios?calculation_id=1171584).\n",
    "\n",
    "We can look that up to get an idea of what a quarter of a ton of CO2 is the equivalent to if we want other figures:\n",
    "\n",
    "https://www.epa.gov/energy/greenhouse-gas-equivalencies-calculator\n",
    "\n",
    "Let's scale this up to a month, to make it a bit easier to reason about, but to keep the numbers simple, let's go for 30 days in our month:"
   ]
  },
  {
   "cell_type": "code",
   "execution_count": 56,
   "metadata": {},
   "outputs": [
    {
     "data": {
      "text/plain": [
       "7455.322265625"
      ]
     },
     "execution_count": 56,
     "metadata": {},
     "output_type": "execute_result"
    }
   ],
   "source": [
    "co2_emitted_per_month = co2_emitted_per_day * 30\n",
    "co2_emitted_per_month"
   ]
  },
  {
   "cell_type": "markdown",
   "metadata": {},
   "source": [
    "So, seven and a half tonnes per month.\n",
    "\n",
    "Let's look at the savings we'd get if the GDPR friendly version one was the norm, at a tenth of the size:\n"
   ]
  },
  {
   "cell_type": "code",
   "execution_count": 48,
   "metadata": {},
   "outputs": [
    {
     "data": {
      "text/plain": [
       "6709.7900390625"
      ]
     },
     "execution_count": 48,
     "metadata": {},
     "output_type": "execute_result"
    }
   ],
   "source": [
    "svelte_GDPR_site_multiplier=0.1\n",
    "svelte_GPDR_monthly_footprint= co2_emitted_per_month * svelte_GDPR_site_multiplier\n",
    "saved_co2_per_month = co2_emitted_per_month - svelte_GPDR_monthly_footprint\n",
    "saved_co2_per_month"
   ]
  },
  {
   "cell_type": "markdown",
   "metadata": {},
   "source": [
    "So, **6.71 tonnes saved each month**.\n",
    "\n",
    "For context, if we look at the [World Bank's own data](http://databank.worldbank.org/data/reports.aspx?source=2&series=EN.ATM.CO2E.PC&country=#), a typical carbon footprint for a person in the European Union is listed as 6.4 tonnes.\n",
    "\n",
    "If the svelte, GDPR friendly, ad-cruft free version of USA Today site was the norm, then it would be like _saving a little bit more than carbon footprint of **an entire person in Europe** every month_, just in bandwidth, _before_ we think about all the ad servers needed to run all the behaviour advertising and tracking.\n"
   ]
  },
  {
   "cell_type": "markdown",
   "metadata": {},
   "source": [
    "# Plausible responses when reading this:\n",
    "\n",
    "\n",
    "### These numbers are silly, and the GPDR version is obviously can't generate revenue to cover the costs of the site\n",
    "\n",
    "I don't disagree here - I put these figures together _based on a tweet from a friend_, for crying out loud.\n",
    "\n",
    "But I'd argue that the closer we look at ads in their current, behaviour-tracking ad-tech form as a source of funding the more externalities we discover, and the more we should be aware of other alternatives for funding.\n",
    "\n",
    "The Guardian is an interesting example of this - [more than half their revenue online is now coming from membership compared to ad revenue now](http://www.pressgazette.co.uk/guardian-says-money-from-readers-has-overtaken-advertising-as-it-boasts-500000-paying-supporters-and-subscribers/), as a result of a converted push to get away from being reliant on ads. \n",
    "\n",
    "Elsewhere, [this fascinating interview with Tom Standage of the Economist, about selling a _finishable, curated bundle of content_ to end users](http://www.niemanlab.org/2015/04/the-economists-tom-standage-on-digital-strategy-and-the-limits-of-a-model-based-on-advertising/), rather than a load eyeballs with wallets to advertisers, is good brainfood.\n",
    "\n",
    "There's also [a nice Stratechery piece here](https://stratechery.com/2017/publishers-seek-antitrust-exemption-news-versus-advertising-a-better-solution-for-publishers/), on journalism and different funding models.\n",
    "\n",
    "When we make decisions aobut how we fund the digital products, we make avaiable to users, we should at leasrt recognise where we are shifting the costs.\n",
    "\n",
    "### I fail to see the relevance of CO2 here.\n",
    "\n",
    "Well, most of the [web right now runs on fossil fuels right now](https://blog.chrisadams.me.uk/2018/05/15/how-much-of-the-web-runs-on-renewables-today/), when it doesn't need to. This results in hundreds of millions of tonnes of avoidable CO2 emissions.\n",
    "\n",
    "This happens partly as a result of how we choose to power the web, there are viable alternatives now - for example, the top three companies listed by Alexa by traffic manage to run all their infrastructure in a carbon neutral fashion, as do loads of other organisations too, from Hetzner, to Switch.\n",
    "\n",
    "I think when we talk about CO2 emissions, there's a whole, thorny conversation about how fair it is to shift the costs to society that CO2 emissions represent, onto the people least responsible for them, and least able to bear them. Especially when these are absolutely avoidable emissions.\n",
    "\n",
    "If we care about making the web available to everyone, but we know globally that CO2 emissions contribute to harm through extreme weather events, climate change and so on, then I think we should talk about how we can decouple use of the web from these emissions.\n",
    "\n",
    "\n",
    "### Okay, what do you propose instead?\n",
    "\n",
    "If you build the web, and if this is of any interest to you, there are decisions you can take to reduce the impact, in various ways. There are a load of talks at [sustainableux.com](http://sustainableux.com/), and a [I've found this book from Tim Frick, useful too](http://shop.oreilly.com/product/0636920043904.do).\n",
    "\n",
    "I'm looking for help building a [free, open source guide outlining steps you can take, from switching how you power infra, to changing how you design products, to rethinking the process of building them](https://planetfriendlyweb.org/contributing/).\n",
    "\n",
    "### This entire guide looks a total mess, Chris\n",
    "\n",
    "Yeah, it _does_ looks like a total mess, right now - sorry about that, and deeply embarassed by the current state of it all.\n",
    "\n",
    "I'm hoping that my working in the open I get some help, and finding a way to work on it full time.\n",
    "\n",
    "In the meantime, the good news is I'm starting to get PR's coming in now, from places I'd never have expected - huzzah!\n",
    "\n",
    "If this is interesting to you, lets chat too though - [my DMs on twitter are open](http://twitter.com/mrchrisadams), and you an find me and a load of other sustainable web nerds in this [Sustainable UX slack](https://join.slack.com/t/sustainableux/shared_invite/enQtMzY0MTQ0NjY5OTQxLWIyYmFhMTkxMjM3ZjMyMjFiYWIyY2JiN2VlMDQ5YWVhZWYwMjdiNzRhNzI0Y2Y2OWE1MGI2MjY2M2EzNzBmOGU), and on this [w3c community mailing list too](https://www.w3.org/community/sustyweb/)\n",
    "\n",
    "You might get something useful out of these [slide decks here](), or the ten minute video linked in [this blog post here](https://blog.chrisadams.me.uk/2018/03/08/explaining-a-planet-friendly-web-in-10-minutes/).\n",
    "\n",
    "\n",
    "### So, are you saying we should stop using the web?\n",
    "\n",
    "Nope. I'm saying we should be thoughtful about how we use it, how it's funded, and the externalities created by our use, and we should work to decouple the web from the emissions it currently ends up causing.\n",
    "\n",
    "Let's build Star Trek, not Mad Max.\n"
   ]
  },
  {
   "cell_type": "code",
   "execution_count": null,
   "metadata": {},
   "outputs": [],
   "source": []
  }
 ],
 "metadata": {
  "kernelspec": {
   "display_name": "Python 3",
   "language": "python",
   "name": "python3"
  },
  "language_info": {
   "codemirror_mode": {
    "name": "ipython",
    "version": 3
   },
   "file_extension": ".py",
   "mimetype": "text/x-python",
   "name": "python",
   "nbconvert_exporter": "python",
   "pygments_lexer": "ipython3",
   "version": "3.6.2"
  }
 },
 "nbformat": 4,
 "nbformat_minor": 2
}
