{
 "cells": [
  {
   "cell_type": "markdown",
   "metadata": {},
   "source": [
    "## Lets work out a typical impact of a website:\n",
    "\n",
    "Let's say you get about 18k visits a month for your business's site. \n",
    "\n",
    "_600 views per day_, say your site is about 2mb in size, and for simplicity, we have 30 days in a month.\n",
    "\n",
    "We'll try to work out the CO2 emissions based on how much data we send, and it's one thing we can measure and have some meaningful control over.\n"
   ]
  },
  {
   "cell_type": "code",
   "execution_count": 53,
   "metadata": {},
   "outputs": [],
   "source": [
    "typical_size = 2 # let say avg size of youer page is 2mb\n",
    "pageviews = 600\n",
    "days_in_month = 30\n",
    "months_in_a_year = 12"
   ]
  },
  {
   "cell_type": "markdown",
   "metadata": {},
   "source": [
    "### So, lets see how much data this is in a typical month\n",
    "\n",
    "To do this, we multiply these to arrive at a figure in megabyte per month."
   ]
  },
  {
   "cell_type": "code",
   "execution_count": 54,
   "metadata": {},
   "outputs": [
    {
     "data": {
      "text/plain": [
       "'36000 megabytes transferred per month'"
      ]
     },
     "execution_count": 54,
     "metadata": {},
     "output_type": "execute_result"
    }
   ],
   "source": [
    "transfer_in_month = typical_size * pageviews * days_in_month\n",
    "\n",
    "# \n",
    "transfer_in_month\n",
    "\n",
    "\"{} megabytes transferred per month\".format(transfer_in_month)"
   ]
  },
  {
   "cell_type": "markdown",
   "metadata": {},
   "source": [
    "### But our CO2 emissions are in CO2 emissions per GB\n",
    "\n",
    "This is of course a massive over simplication (4G users more than wired/wifi connections, and different countries have different energy mixes), but for this example, lets focus on getting to a single number first before refining it.\n",
    "\n",
    "So we need to convert to gigabytes, and then multiple by the CO2 emitted per gigabyte:"
   ]
  },
  {
   "cell_type": "code",
   "execution_count": 55,
   "metadata": {},
   "outputs": [
    {
     "data": {
      "text/plain": [
       "35.15625"
      ]
     },
     "execution_count": 55,
     "metadata": {},
     "output_type": "execute_result"
    }
   ],
   "source": [
    "monthly_tranfer_in_gb =  transfer_in_month / 1024 # 1025 megabytes in a gigabyte\n",
    "monthly_tranfer_in_gb"
   ]
  },
  {
   "cell_type": "markdown",
   "metadata": {},
   "source": [
    "And converting to carbon dioxide figures"
   ]
  },
  {
   "cell_type": "code",
   "execution_count": 56,
   "metadata": {},
   "outputs": [
    {
     "data": {
      "text/plain": [
       "21093.75"
      ]
     },
     "execution_count": 56,
     "metadata": {},
     "output_type": "execute_result"
    }
   ],
   "source": [
    "grams_of_co2e_per_gb = 600\n",
    "\n",
    "monthly_co2e = monthly_tranfer_in_gb * grams_of_co2e_per_gb\n",
    "\n",
    "monthly_co2e"
   ]
  },
  {
   "cell_type": "markdown",
   "metadata": {},
   "source": [
    "Grams is not really the unit we want. Kilos or tonnes are closer to a human scale, to make it halfway meaningful.\n",
    "\n",
    "For context, a typical European might have a annual carbon footprint of about 10 tonnes.\n",
    "A flight from London England, to New York City emits about 1 tonnes of CO2.\n"
   ]
  },
  {
   "cell_type": "code",
   "execution_count": 59,
   "metadata": {},
   "outputs": [
    {
     "data": {
      "text/plain": [
       "{'monthly_co2e_in_kilos': '21.1', 'monthly_co2e_in_tonnes': '0.021'}"
      ]
     },
     "execution_count": 59,
     "metadata": {},
     "output_type": "execute_result"
    }
   ],
   "source": [
    "monthly_co2e_in_kilos =  monthly_co2e / 1000\n",
    "monthly_co2e_in_tonnes = monthly_co2e_in_kilos / 1000\n",
    "\n",
    "{\n",
    "    \"monthly_co2e_in_kilos\": \"{:.3}\".format(monthly_co2e_in_kilos), \n",
    "    \"monthly_co2e_in_tonnes\": \"{:.2}\".format(monthly_co2e_in_tonnes)\n",
    "}"
   ]
  },
  {
   "cell_type": "markdown",
   "metadata": {},
   "source": [
    "### What does this work out to be over a year?\n",
    "\n",
    "We'll set aside seasonality right now, and assume each month has uniform traffic for the purposes of these calcs:\n",
    "\n"
   ]
  },
  {
   "cell_type": "code",
   "execution_count": 58,
   "metadata": {},
   "outputs": [
    {
     "data": {
      "text/plain": [
       "'0.25 tonnes per year'"
      ]
     },
     "execution_count": 58,
     "metadata": {},
     "output_type": "execute_result"
    }
   ],
   "source": [
    "co2e_per_year = monthly_co2e_in_tonnes * 12\n",
    "\"{:.2} tonnes per year\".format(co2e_per_year)"
   ]
  },
  {
   "cell_type": "markdown",
   "metadata": {},
   "source": [
    "### So, a quarter of a tonne per year. What does this tell us?\n",
    "\n",
    "You could invest in making changes, but an extra flight you take to see a client would basically wipe out all the savings you make.\n",
    "\n",
    "So below a certain scale, the biggest saving if you look at process of building digital products is likely to be looking at travel decisions, rather than optimising page weight.\n",
    "\n"
   ]
  }
 ],
 "metadata": {
  "kernelspec": {
   "display_name": "Python 3",
   "language": "python",
   "name": "python3"
  },
  "language_info": {
   "codemirror_mode": {
    "name": "ipython",
    "version": 3
   },
   "file_extension": ".py",
   "mimetype": "text/x-python",
   "name": "python",
   "nbconvert_exporter": "python",
   "pygments_lexer": "ipython3",
   "version": "3.6.2"
  }
 },
 "nbformat": 4,
 "nbformat_minor": 2
}
